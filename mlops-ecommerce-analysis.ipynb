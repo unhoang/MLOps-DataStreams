{
 "cells": [
  {
   "cell_type": "markdown",
   "metadata": {},
   "source": [
    "# Today you are a Machine Learning Engineer at Walmart!\n",
    "For your latest assignemt, your manager has asked your team to work alongside the Data Engineering team to design an optimal Machine Learning pipeline for Automated Inventory, i.e. predicting purchases per customer accurately. The Data Engineering team has used Trifacta to clean some online shopping data gathered from the servers over the last few months. They also tell you that consumer research has found 5 behavioral categories of online shopping customers.\n",
    "\n",
    "You are expected to report back the following to your manager:\n",
    "1. The \"Best Model\" selection pipeline for incoming data.\n",
    "2. Identified 5 customer bahavior clusters.\n",
    "3. Predictive nature of each Customer Behavior cluster.\n",
    "4. Inferences regarding each Customer Behavior Cluster.\n",
    "\n",
    "### This assignment is based on the work in: https://arxiv.org/pdf/2102.01625.pdf\n",
    "Additional Code and explanations available at: https://github.com/sohiniroych/Volvo-DataX/blob/master/User%20Journey%20Modeling/Cosmetics_Journey.ipynb"
   ]
  },
  {
   "cell_type": "markdown",
   "metadata": {},
   "source": [
    "# Load the Data\n",
    "In this assignment, we will read client data that has been pre-processed (using Trifacta), and stored in an S3 bucket name \"mlops-ecommerce\". Working off the S3 bucket directly allows you freedom to work from any workstation and also to maintain the integrity of the data sensitivity (no need to download on system)."
   ]
  },
  {
   "cell_type": "code",
   "execution_count": 1,
   "metadata": {},
   "outputs": [],
   "source": [
    "## Start with loading the Libraries and loading the data\n",
    "import boto3\n",
    "import io\n",
    "import matplotlib.pyplot as plt\n",
    "import numpy as np\n",
    "import os\n",
    "import pandas as pd\n",
    "\n",
    "import sagemaker\n",
    "import sagemaker.amazon.common as smac\n",
    "from sagemaker import get_execution_role\n",
    "from sagemaker.predictor import csv_serializer, json_deserializer"
   ]
  },
  {
   "cell_type": "markdown",
   "metadata": {},
   "source": [
    "## For this work, the data from \"mlops-ecommerce\" bucket will be accessed using boto3! The next step will take about 5-10 mins to load since the data is large!"
   ]
  },
  {
   "cell_type": "code",
   "execution_count": 2,
   "metadata": {},
   "outputs": [],
   "source": [
    "role = get_execution_role()\n",
    "bucket='mlops-ecommerce'\n",
    "data_key = 'Cosmetics_Journey_25.csv'\n",
    "data_location = 's3://{}/{}'.format(bucket, data_key)\n",
    "\n",
    "raw_data=pd.read_csv(data_location)"
   ]
  },
  {
   "cell_type": "code",
   "execution_count": 3,
   "metadata": {},
   "outputs": [],
   "source": [
    "## Importing required Libraries\n",
    "import os\n",
    "import numpy as np\n",
    "import pandas as pd\n",
    "import seaborn as sb"
   ]
  },
  {
   "cell_type": "code",
   "execution_count": 4,
   "metadata": {},
   "outputs": [
    {
     "data": {
      "text/plain": [
       "(1100000, 36)"
      ]
     },
     "execution_count": 4,
     "metadata": {},
     "output_type": "execute_result"
    }
   ],
   "source": [
    "#Print the shape of the data\n",
    "\n",
    "np.shape(raw_data)"
   ]
  },
  {
   "cell_type": "code",
   "execution_count": 5,
   "metadata": {},
   "outputs": [
    {
     "data": {
      "text/html": [
       "<div>\n",
       "<style scoped>\n",
       "    .dataframe tbody tr th:only-of-type {\n",
       "        vertical-align: middle;\n",
       "    }\n",
       "\n",
       "    .dataframe tbody tr th {\n",
       "        vertical-align: top;\n",
       "    }\n",
       "\n",
       "    .dataframe thead th {\n",
       "        text-align: right;\n",
       "    }\n",
       "</style>\n",
       "<table border=\"1\" class=\"dataframe\">\n",
       "  <thead>\n",
       "    <tr style=\"text-align: right;\">\n",
       "      <th></th>\n",
       "      <th>user_id</th>\n",
       "      <th>product_id</th>\n",
       "      <th>NumOfEventsInJourney</th>\n",
       "      <th>NumSessions</th>\n",
       "      <th>interactionTime</th>\n",
       "      <th>maxPrice</th>\n",
       "      <th>minPrice</th>\n",
       "      <th>NumCart</th>\n",
       "      <th>NumView</th>\n",
       "      <th>NumRemove</th>\n",
       "      <th>...</th>\n",
       "      <th>Nov</th>\n",
       "      <th>Dec</th>\n",
       "      <th>Afternoon</th>\n",
       "      <th>Dawn</th>\n",
       "      <th>EarlyMorning</th>\n",
       "      <th>Evening</th>\n",
       "      <th>Morning</th>\n",
       "      <th>Night</th>\n",
       "      <th>Noon</th>\n",
       "      <th>Purchase</th>\n",
       "    </tr>\n",
       "  </thead>\n",
       "  <tbody>\n",
       "    <tr>\n",
       "      <th>0</th>\n",
       "      <td>557218959</td>\n",
       "      <td>5887255</td>\n",
       "      <td>4</td>\n",
       "      <td>1</td>\n",
       "      <td>17.0</td>\n",
       "      <td>2.52</td>\n",
       "      <td>2.52</td>\n",
       "      <td>3</td>\n",
       "      <td>1</td>\n",
       "      <td>0</td>\n",
       "      <td>...</td>\n",
       "      <td>0</td>\n",
       "      <td>0</td>\n",
       "      <td>0</td>\n",
       "      <td>1</td>\n",
       "      <td>0</td>\n",
       "      <td>0</td>\n",
       "      <td>0</td>\n",
       "      <td>0</td>\n",
       "      <td>0</td>\n",
       "      <td>0</td>\n",
       "    </tr>\n",
       "    <tr>\n",
       "      <th>1</th>\n",
       "      <td>466018870</td>\n",
       "      <td>5830550</td>\n",
       "      <td>2</td>\n",
       "      <td>2</td>\n",
       "      <td>429.0</td>\n",
       "      <td>1.73</td>\n",
       "      <td>1.73</td>\n",
       "      <td>0</td>\n",
       "      <td>2</td>\n",
       "      <td>0</td>\n",
       "      <td>...</td>\n",
       "      <td>0</td>\n",
       "      <td>0</td>\n",
       "      <td>0</td>\n",
       "      <td>0</td>\n",
       "      <td>0</td>\n",
       "      <td>1</td>\n",
       "      <td>0</td>\n",
       "      <td>0</td>\n",
       "      <td>0</td>\n",
       "      <td>0</td>\n",
       "    </tr>\n",
       "    <tr>\n",
       "      <th>2</th>\n",
       "      <td>481499606</td>\n",
       "      <td>5803696</td>\n",
       "      <td>3</td>\n",
       "      <td>2</td>\n",
       "      <td>2817143.0</td>\n",
       "      <td>14.29</td>\n",
       "      <td>14.29</td>\n",
       "      <td>1</td>\n",
       "      <td>0</td>\n",
       "      <td>2</td>\n",
       "      <td>...</td>\n",
       "      <td>0</td>\n",
       "      <td>0</td>\n",
       "      <td>0</td>\n",
       "      <td>0</td>\n",
       "      <td>0</td>\n",
       "      <td>0</td>\n",
       "      <td>1</td>\n",
       "      <td>0</td>\n",
       "      <td>0</td>\n",
       "      <td>0</td>\n",
       "    </tr>\n",
       "    <tr>\n",
       "      <th>3</th>\n",
       "      <td>549903361</td>\n",
       "      <td>5881937</td>\n",
       "      <td>1</td>\n",
       "      <td>1</td>\n",
       "      <td>0.0</td>\n",
       "      <td>17.46</td>\n",
       "      <td>17.46</td>\n",
       "      <td>0</td>\n",
       "      <td>1</td>\n",
       "      <td>0</td>\n",
       "      <td>...</td>\n",
       "      <td>0</td>\n",
       "      <td>0</td>\n",
       "      <td>0</td>\n",
       "      <td>0</td>\n",
       "      <td>1</td>\n",
       "      <td>0</td>\n",
       "      <td>0</td>\n",
       "      <td>0</td>\n",
       "      <td>0</td>\n",
       "      <td>0</td>\n",
       "    </tr>\n",
       "    <tr>\n",
       "      <th>4</th>\n",
       "      <td>536405450</td>\n",
       "      <td>5736504</td>\n",
       "      <td>1</td>\n",
       "      <td>1</td>\n",
       "      <td>0.0</td>\n",
       "      <td>20.63</td>\n",
       "      <td>20.63</td>\n",
       "      <td>1</td>\n",
       "      <td>0</td>\n",
       "      <td>0</td>\n",
       "      <td>...</td>\n",
       "      <td>0</td>\n",
       "      <td>1</td>\n",
       "      <td>0</td>\n",
       "      <td>0</td>\n",
       "      <td>0</td>\n",
       "      <td>1</td>\n",
       "      <td>0</td>\n",
       "      <td>0</td>\n",
       "      <td>0</td>\n",
       "      <td>0</td>\n",
       "    </tr>\n",
       "  </tbody>\n",
       "</table>\n",
       "<p>5 rows × 36 columns</p>\n",
       "</div>"
      ],
      "text/plain": [
       "     user_id  product_id  NumOfEventsInJourney  NumSessions  interactionTime  \\\n",
       "0  557218959     5887255                     4            1             17.0   \n",
       "1  466018870     5830550                     2            2            429.0   \n",
       "2  481499606     5803696                     3            2        2817143.0   \n",
       "3  549903361     5881937                     1            1              0.0   \n",
       "4  536405450     5736504                     1            1              0.0   \n",
       "\n",
       "   maxPrice  minPrice  NumCart  NumView  NumRemove  ...  Nov  Dec  Afternoon  \\\n",
       "0      2.52      2.52        3        1          0  ...    0    0          0   \n",
       "1      1.73      1.73        0        2          0  ...    0    0          0   \n",
       "2     14.29     14.29        1        0          2  ...    0    0          0   \n",
       "3     17.46     17.46        0        1          0  ...    0    0          0   \n",
       "4     20.63     20.63        1        0          0  ...    0    1          0   \n",
       "\n",
       "   Dawn  EarlyMorning  Evening  Morning  Night  Noon  Purchase  \n",
       "0     1             0        0        0      0     0         0  \n",
       "1     0             0        1        0      0     0         0  \n",
       "2     0             0        0        1      0     0         0  \n",
       "3     0             1        0        0      0     0         0  \n",
       "4     0             0        1        0      0     0         0  \n",
       "\n",
       "[5 rows x 36 columns]"
      ]
     },
     "execution_count": 5,
     "metadata": {},
     "output_type": "execute_result"
    }
   ],
   "source": [
    "# print first few rows of the data\n",
    "raw_data.head()"
   ]
  },
  {
   "cell_type": "markdown",
   "metadata": {},
   "source": [
    "### So you see the Data Engineering team has sent you 1.1M records corresponding to users and their interations with products. Notice two things:\n",
    "1. All features are nuumeric (so one-hot-encoding has been done).\n",
    "2. Last column depicts if the user-product interation resulted in a purchase or not.\n",
    "Such kind of data is referred to as \"User Journeys\". This work is based on the recent paper: https://arxiv.org/pdf/2102.01625.pdf"
   ]
  },
  {
   "cell_type": "markdown",
   "metadata": {},
   "source": [
    "# Task 1: Perform Exploratory Data Analysis (EDA) to find features that are important. \n",
    "You can choose any one of the two methods given below OR Run both as well.\n",
    "```\n",
    "Method 1: RandomForestClassifier for feature importance https://scikit-learn.org/stable/modules/generated/sklearn.ensemble.RandomForestClassifier.html that uses Entropy based measure called GINI Index to rank features of importance\n",
    "\n",
    "Method 2: Fisher scoring method using the sklearn feature_selection library https://scikit-learn.org/stable/modules/feature_selection.html\n",
    "```\n",
    "\n",
    "Observe some differences in the ranked mathods!"
   ]
  },
  {
   "cell_type": "code",
   "execution_count": 6,
   "metadata": {},
   "outputs": [],
   "source": [
    "#Load Libraries for Data splitting and normalization\n",
    "from sklearn.model_selection import train_test_split\n",
    "from sklearn.preprocessing import MinMaxScaler\n",
    "from sklearn.ensemble import RandomForestClassifier\n",
    "from sklearn.feature_selection import SelectFromModel\n",
    "import matplotlib.pyplot as plt\n",
    "import sklearn.feature_selection as fs\n",
    "import seaborn as sn"
   ]
  },
  {
   "cell_type": "code",
   "execution_count": 7,
   "metadata": {},
   "outputs": [],
   "source": [
    "XData = raw_data.iloc[:,2:-1]\n",
    "YData = raw_data.iloc[:,-1]"
   ]
  },
  {
   "cell_type": "code",
   "execution_count": 8,
   "metadata": {},
   "outputs": [],
   "source": [
    "X_train, X_test, y_train, y_test = train_test_split(XData,YData,test_size=0.2,random_state=42, stratify=YData)"
   ]
  },
  {
   "cell_type": "code",
   "execution_count": 9,
   "metadata": {},
   "outputs": [
    {
     "data": {
      "text/html": [
       "<div>\n",
       "<style scoped>\n",
       "    .dataframe tbody tr th:only-of-type {\n",
       "        vertical-align: middle;\n",
       "    }\n",
       "\n",
       "    .dataframe tbody tr th {\n",
       "        vertical-align: top;\n",
       "    }\n",
       "\n",
       "    .dataframe thead th {\n",
       "        text-align: right;\n",
       "    }\n",
       "</style>\n",
       "<table border=\"1\" class=\"dataframe\">\n",
       "  <thead>\n",
       "    <tr style=\"text-align: right;\">\n",
       "      <th></th>\n",
       "      <th>NumOfEventsInJourney</th>\n",
       "      <th>NumSessions</th>\n",
       "      <th>interactionTime</th>\n",
       "      <th>maxPrice</th>\n",
       "      <th>minPrice</th>\n",
       "      <th>NumCart</th>\n",
       "      <th>NumView</th>\n",
       "      <th>NumRemove</th>\n",
       "      <th>InsessionCart</th>\n",
       "      <th>InsessionView</th>\n",
       "      <th>...</th>\n",
       "      <th>Oct</th>\n",
       "      <th>Nov</th>\n",
       "      <th>Dec</th>\n",
       "      <th>Afternoon</th>\n",
       "      <th>Dawn</th>\n",
       "      <th>EarlyMorning</th>\n",
       "      <th>Evening</th>\n",
       "      <th>Morning</th>\n",
       "      <th>Night</th>\n",
       "      <th>Noon</th>\n",
       "    </tr>\n",
       "  </thead>\n",
       "  <tbody>\n",
       "    <tr>\n",
       "      <th>66540</th>\n",
       "      <td>2</td>\n",
       "      <td>1</td>\n",
       "      <td>311.0</td>\n",
       "      <td>3.97</td>\n",
       "      <td>3.97</td>\n",
       "      <td>0</td>\n",
       "      <td>2</td>\n",
       "      <td>0</td>\n",
       "      <td>0</td>\n",
       "      <td>2</td>\n",
       "      <td>...</td>\n",
       "      <td>0</td>\n",
       "      <td>0</td>\n",
       "      <td>1</td>\n",
       "      <td>0</td>\n",
       "      <td>1</td>\n",
       "      <td>0</td>\n",
       "      <td>0</td>\n",
       "      <td>0</td>\n",
       "      <td>0</td>\n",
       "      <td>0</td>\n",
       "    </tr>\n",
       "    <tr>\n",
       "      <th>690376</th>\n",
       "      <td>2</td>\n",
       "      <td>2</td>\n",
       "      <td>4018.0</td>\n",
       "      <td>1.27</td>\n",
       "      <td>1.27</td>\n",
       "      <td>1</td>\n",
       "      <td>0</td>\n",
       "      <td>0</td>\n",
       "      <td>41</td>\n",
       "      <td>39</td>\n",
       "      <td>...</td>\n",
       "      <td>0</td>\n",
       "      <td>0</td>\n",
       "      <td>0</td>\n",
       "      <td>0</td>\n",
       "      <td>1</td>\n",
       "      <td>0</td>\n",
       "      <td>0</td>\n",
       "      <td>0</td>\n",
       "      <td>0</td>\n",
       "      <td>0</td>\n",
       "    </tr>\n",
       "    <tr>\n",
       "      <th>1072749</th>\n",
       "      <td>1</td>\n",
       "      <td>1</td>\n",
       "      <td>0.0</td>\n",
       "      <td>5.56</td>\n",
       "      <td>5.56</td>\n",
       "      <td>0</td>\n",
       "      <td>1</td>\n",
       "      <td>0</td>\n",
       "      <td>0</td>\n",
       "      <td>1</td>\n",
       "      <td>...</td>\n",
       "      <td>0</td>\n",
       "      <td>1</td>\n",
       "      <td>0</td>\n",
       "      <td>0</td>\n",
       "      <td>0</td>\n",
       "      <td>0</td>\n",
       "      <td>1</td>\n",
       "      <td>0</td>\n",
       "      <td>0</td>\n",
       "      <td>0</td>\n",
       "    </tr>\n",
       "    <tr>\n",
       "      <th>467252</th>\n",
       "      <td>1</td>\n",
       "      <td>1</td>\n",
       "      <td>0.0</td>\n",
       "      <td>42.62</td>\n",
       "      <td>42.62</td>\n",
       "      <td>0</td>\n",
       "      <td>1</td>\n",
       "      <td>0</td>\n",
       "      <td>2</td>\n",
       "      <td>2</td>\n",
       "      <td>...</td>\n",
       "      <td>0</td>\n",
       "      <td>0</td>\n",
       "      <td>1</td>\n",
       "      <td>0</td>\n",
       "      <td>0</td>\n",
       "      <td>1</td>\n",
       "      <td>0</td>\n",
       "      <td>0</td>\n",
       "      <td>0</td>\n",
       "      <td>0</td>\n",
       "    </tr>\n",
       "    <tr>\n",
       "      <th>433136</th>\n",
       "      <td>2</td>\n",
       "      <td>1</td>\n",
       "      <td>18.0</td>\n",
       "      <td>50.00</td>\n",
       "      <td>50.00</td>\n",
       "      <td>0</td>\n",
       "      <td>2</td>\n",
       "      <td>0</td>\n",
       "      <td>0</td>\n",
       "      <td>13</td>\n",
       "      <td>...</td>\n",
       "      <td>1</td>\n",
       "      <td>0</td>\n",
       "      <td>0</td>\n",
       "      <td>1</td>\n",
       "      <td>0</td>\n",
       "      <td>0</td>\n",
       "      <td>0</td>\n",
       "      <td>0</td>\n",
       "      <td>0</td>\n",
       "      <td>0</td>\n",
       "    </tr>\n",
       "  </tbody>\n",
       "</table>\n",
       "<p>5 rows × 33 columns</p>\n",
       "</div>"
      ],
      "text/plain": [
       "         NumOfEventsInJourney  NumSessions  interactionTime  maxPrice  \\\n",
       "66540                       2            1            311.0      3.97   \n",
       "690376                      2            2           4018.0      1.27   \n",
       "1072749                     1            1              0.0      5.56   \n",
       "467252                      1            1              0.0     42.62   \n",
       "433136                      2            1             18.0     50.00   \n",
       "\n",
       "         minPrice  NumCart  NumView  NumRemove  InsessionCart  InsessionView  \\\n",
       "66540        3.97        0        2          0              0              2   \n",
       "690376       1.27        1        0          0             41             39   \n",
       "1072749      5.56        0        1          0              0              1   \n",
       "467252      42.62        0        1          0              2              2   \n",
       "433136      50.00        0        2          0              0             13   \n",
       "\n",
       "         ...  Oct  Nov  Dec  Afternoon  Dawn  EarlyMorning  Evening  Morning  \\\n",
       "66540    ...    0    0    1          0     1             0        0        0   \n",
       "690376   ...    0    0    0          0     1             0        0        0   \n",
       "1072749  ...    0    1    0          0     0             0        1        0   \n",
       "467252   ...    0    0    1          0     0             1        0        0   \n",
       "433136   ...    1    0    0          1     0             0        0        0   \n",
       "\n",
       "         Night  Noon  \n",
       "66540        0     0  \n",
       "690376       0     0  \n",
       "1072749      0     0  \n",
       "467252       0     0  \n",
       "433136       0     0  \n",
       "\n",
       "[5 rows x 33 columns]"
      ]
     },
     "execution_count": 9,
     "metadata": {},
     "output_type": "execute_result"
    }
   ],
   "source": [
    "X_train.head()"
   ]
  },
  {
   "cell_type": "code",
   "execution_count": 10,
   "metadata": {},
   "outputs": [],
   "source": [
    "MMscaler = MinMaxScaler()\n",
    "X_train = MMscaler.fit_transform(X_train)\n",
    "X_test = MMscaler.transform(X_test)"
   ]
  },
  {
   "cell_type": "code",
   "execution_count": 11,
   "metadata": {},
   "outputs": [],
   "source": [
    "sel = SelectFromModel(RandomForestClassifier(n_estimators = 10))"
   ]
  },
  {
   "cell_type": "code",
   "execution_count": 12,
   "metadata": {},
   "outputs": [
    {
     "data": {
      "text/plain": [
       "SelectFromModel(estimator=RandomForestClassifier(n_estimators=10))"
      ]
     },
     "execution_count": 12,
     "metadata": {},
     "output_type": "execute_result"
    }
   ],
   "source": [
    "sel.fit(X_train, y_train)"
   ]
  },
  {
   "cell_type": "code",
   "execution_count": 13,
   "metadata": {},
   "outputs": [],
   "source": [
    "selected_feat= XData.columns[(sel.get_support())]"
   ]
  },
  {
   "cell_type": "code",
   "execution_count": 14,
   "metadata": {},
   "outputs": [
    {
     "data": {
      "text/plain": [
       "array([0.18058404, 0.02475784, 0.12845035, 0.0232703 , 0.01988183,\n",
       "       0.10860695, 0.09931994, 0.23809487, 0.04488756, 0.02540814,\n",
       "       0.06545976, 0.        , 0.00223105, 0.00224376, 0.0020553 ,\n",
       "       0.00218007, 0.00239791, 0.00236473, 0.00224446, 0.00136599,\n",
       "       0.00179816, 0.00160728, 0.0018938 , 0.00204821, 0.00186367,\n",
       "       0.00173426, 0.00247474, 0.00142554, 0.00231024, 0.00187225,\n",
       "       0.00221461, 0.00150852, 0.00144385])"
      ]
     },
     "execution_count": 14,
     "metadata": {},
     "output_type": "execute_result"
    }
   ],
   "source": [
    "importances = sel.estimator_.feature_importances_\n",
    "importances"
   ]
  },
  {
   "cell_type": "code",
   "execution_count": 15,
   "metadata": {},
   "outputs": [
    {
     "data": {
      "image/png": "[encoded data removed]",
      "text/plain": [
       "<Figure size 1080x648 with 1 Axes>"
      ]
     },
     "metadata": {
      "needs_background": "light"
     },
     "output_type": "display_data"
    }
   ],
   "source": [
    "indices = np.argsort(importances)[::-1] \n",
    "colname = XData.columns[indices]\n",
    "plt.figure(figsize=(15,9))\n",
    "plt.title(\"Feature importances\",size=20)\n",
    "sn.barplot(x=colname, y=importances[indices],palette=\"deep\")\n",
    "plt.xticks(rotation=90,size=20)\n",
    "plt.show()"
   ]
  },
  {
   "cell_type": "code",
   "execution_count": 16,
   "metadata": {},
   "outputs": [
    {
     "name": "stderr",
     "output_type": "stream",
     "text": [
      "/home/ec2-user/anaconda3/envs/python3/lib/python3.6/site-packages/sklearn/feature_selection/_univariate_selection.py:115: UserWarning: Features [11] are constant.\n",
      "  UserWarning)\n",
      "/home/ec2-user/anaconda3/envs/python3/lib/python3.6/site-packages/sklearn/feature_selection/_univariate_selection.py:116: RuntimeWarning: invalid value encountered in true_divide\n",
      "  f = msb / msw\n"
     ]
    }
   ],
   "source": [
    "kb = fs.SelectKBest(k=X_train.shape[1])\n",
    "kb.fit(X_train, y_train)\n",
    "names = XData.columns.values[kb.get_support()]\n",
    "scores = kb.scores_[kb.get_support()]\n",
    "names_scores = list(zip(names, scores))"
   ]
  },
  {
   "cell_type": "code",
   "execution_count": 17,
   "metadata": {},
   "outputs": [],
   "source": [
    "fScoreDF = pd.DataFrame(data = names_scores, columns=['Feat_names','F_Scores'])\n",
    "fScoreDF_sorted = fScoreDF.sort_values(['F_Scores','Feat_names'], ascending =[False, True])"
   ]
  },
  {
   "cell_type": "code",
   "execution_count": 18,
   "metadata": {},
   "outputs": [
    {
     "data": {
      "image/png": "[encoded data removed]",
      "text/plain": [
       "<Figure size 1080x648 with 1 Axes>"
      ]
     },
     "metadata": {
      "needs_background": "light"
     },
     "output_type": "display_data"
    }
   ],
   "source": [
    "plt.figure(figsize=(15,9))\n",
    "sn.barplot(x= \"Feat_names\", y=\"F_Scores\",data=fScoreDF_sorted)\n",
    "plt.xticks(rotation=90,size=20)\n",
    "plt.show()"
   ]
  },
  {
   "cell_type": "markdown",
   "metadata": {},
   "source": [
    "## Thus, we observe that the temporal features (time, day, year etc) have significantly less importance than the other features. Thus, we reduce data dimensionality by discarding the temporal features!"
   ]
  },
  {
   "cell_type": "code",
   "execution_count": 19,
   "metadata": {},
   "outputs": [],
   "source": [
    "X_train_1=X_train[:,1:13]\n",
    "X_test_1=X_test[:,1:13]"
   ]
  },
  {
   "cell_type": "code",
   "execution_count": 20,
   "metadata": {},
   "outputs": [
    {
     "data": {
      "image/png": "[encoded data removed]",
      "text/plain": [
       "<Figure size 432x288 with 1 Axes>"
      ]
     },
     "metadata": {
      "needs_background": "light"
     },
     "output_type": "display_data"
    },
    {
     "name": "stdout",
     "output_type": "stream",
     "text": [
      "Fraction of Purchases in train data= 0.12036363636363637\n",
      "Fraction of Purchases in test data= 0.12036363636363637\n"
     ]
    }
   ],
   "source": [
    "# Next lets look at the data distribution\n",
    "plt.hist(y_train)\n",
    "plt.hist(y_test)\n",
    "plt.show()\n",
    "print(\"Fraction of Purchases in train data=\", np.sum(y_train)/np.shape(y_train)[0])\n",
    "print(\"Fraction of Purchases in test data=\", np.sum(y_test)/np.shape(y_test)[0])"
   ]
  },
  {
   "cell_type": "markdown",
   "metadata": {},
   "source": [
    "# Task 2 [Instructor Led]: Build a classifier hyper-parameterization pipeline with Sagemaker for complete dataset."
   ]
  },
  {
   "cell_type": "markdown",
   "metadata": {},
   "source": [
    "## Step 1:  Here, we convert the processed training data to protobuf and write to S3 for linear-learner in Sagemaker. Ensure the \"New bucket name\" is accurate in the cell underneath."
   ]
  },
  {
   "cell_type": "code",
   "execution_count": 21,
   "metadata": {},
   "outputs": [],
   "source": [
    "bucket_new='mlops-week1'# Add the name of your data bucket here (NEW BUCKET NAME)\n",
    "prefix = \"sagemaker/ecommerce\"  # replace this with your own prefix\n",
    "s3_train_key = \"{}/train/recordio-pb-data\".format(prefix)\n",
    "s3_train_path = os.path.join(\"s3://\", bucket_new, s3_train_key)\n",
    "vectors = np.array([t.tolist() for t in X_train_1]).astype(\"float32\")\n",
    "labels = np.array(y_train).astype(\"float32\")\n",
    "buf = io.BytesIO()\n",
    "smac.write_numpy_to_dense_tensor(buf, vectors, labels)\n",
    "buf.seek(0)\n",
    "boto3.resource(\"s3\").Bucket(bucket_new).Object(s3_train_key).upload_fileobj(buf)\n"
   ]
  },
  {
   "cell_type": "markdown",
   "metadata": {},
   "source": [
    "We will wrap the model training setup in a convenience function that takes in the S3 location of the training data, the model hyperparameters that define our training job, and the S3 output path for model artifacts. Inside the function, we'll hardcode the algorithm container, the number and type of EC2 instances to train on, and the input and output data formats."
   ]
  },
  {
   "cell_type": "code",
   "execution_count": 22,
   "metadata": {},
   "outputs": [],
   "source": [
    "from sagemaker.amazon.amazon_estimator import get_image_uri\n",
    "\n",
    "\n",
    "def predictor_from_hyperparams(s3_train_data, hyperparams, output_path):\n",
    "    \"\"\"\n",
    "    Create an Estimator from the given hyperparams, fit to training data, and return a deployed predictor\n",
    "    \"\"\"\n",
    "    # specify algorithm containers and instantiate an Estimator with given hyperparams\n",
    "    container = get_image_uri(boto3.Session().region_name, \"linear-learner\")\n",
    "\n",
    "    linear = sagemaker.estimator.Estimator(\n",
    "        container,\n",
    "        role,\n",
    "        train_instance_count=1,\n",
    "        train_instance_type=\"ml.m4.xlarge\",\n",
    "        output_path=output_path,\n",
    "        sagemaker_session=sagemaker.Session(),\n",
    "    )\n",
    "    linear.set_hyperparameters(**hyperparams)\n",
    "    # train model\n",
    "    linear.fit({\"train\": s3_train_data})\n",
    "    # deploy a predictor\n",
    "    linear_predictor = linear.deploy(initial_instance_count=1, instance_type=\"ml.m4.xlarge\")\n",
    "    #linear_predictor.content_type = \"csv\"\n",
    "    linear_predictor.serializer = csv_serializer\n",
    "    linear_predictor.deserializer = json_deserializer\n",
    "    return linear_predictor"
   ]
  },
  {
   "cell_type": "markdown",
   "metadata": {},
   "source": [
    "And add another convenience function for setting up a hosting endpoint, making predictions, and evaluating the model. To make predictions, we need to set up a model hosting endpoint. Then we feed test features to the endpoint and receive predicted test labels. To evaluate the models we create in this exercise, we'll capture predicted test labels and compare them to actuals using some common binary classification metrics."
   ]
  },
  {
   "cell_type": "code",
   "execution_count": 23,
   "metadata": {},
   "outputs": [],
   "source": [
    "def evaluate(linear_predictor, test_features, test_labels, model_name, verbose=True):\n",
    "    \"\"\"\n",
    "    Evaluate a model on a test set given the prediction endpoint.  Return binary classification metrics.\n",
    "    \"\"\"\n",
    "    # split the test data set into 100 batches and evaluate using prediction endpoint\n",
    "    prediction_batches = [\n",
    "        linear_predictor.predict(batch)[\"predictions\"]\n",
    "        for batch in np.array_split(test_features, 100)\n",
    "    ]\n",
    "    # parse raw predictions json to exctract predicted label\n",
    "    test_preds = np.concatenate(\n",
    "        [np.array([x[\"predicted_label\"] for x in batch]) for batch in prediction_batches]\n",
    "    )\n",
    "\n",
    "    # calculate true positives, false positives, true negatives, false negatives\n",
    "    tp = np.logical_and(test_labels, test_preds).sum()\n",
    "    fp = np.logical_and(1 - test_labels, test_preds).sum()\n",
    "    tn = np.logical_and(1 - test_labels, 1 - test_preds).sum()\n",
    "    fn = np.logical_and(test_labels, 1 - test_preds).sum()\n",
    "\n",
    "    # calculate binary classification metrics\n",
    "    recall = tp / (tp + fn)\n",
    "    precision = tp / (tp + fp)\n",
    "    accuracy = (tp + tn) / (tp + fp + tn + fn)\n",
    "    f1 = 2 * precision * recall / (precision + recall)\n",
    "\n",
    "    if verbose:\n",
    "        print(pd.crosstab(test_labels, test_preds, rownames=[\"actuals\"], colnames=[\"predictions\"]))\n",
    "        print(\"\\n{:<11} {:.3f}\".format(\"Recall:\", recall))\n",
    "        print(\"{:<11} {:.3f}\".format(\"Precision:\", precision))\n",
    "        print(\"{:<11} {:.3f}\".format(\"Accuracy:\", accuracy))\n",
    "        print(\"{:<11} {:.3f}\".format(\"F1:\", f1))\n",
    "\n",
    "    return {\n",
    "        \"TP\": tp,\n",
    "        \"FP\": fp,\n",
    "        \"FN\": fn,\n",
    "        \"TN\": tn,\n",
    "        \"Precision\": precision,\n",
    "        \"Recall\": recall,\n",
    "        \"Accuracy\": accuracy,\n",
    "        \"F1\": f1,\n",
    "        \"Model\": model_name,\n",
    "    }"
   ]
  },
  {
   "cell_type": "markdown",
   "metadata": {},
   "source": [
    "And finally we'll add a convenience function to delete prediction endpoints after we're done with them:"
   ]
  },
  {
   "cell_type": "code",
   "execution_count": 24,
   "metadata": {},
   "outputs": [],
   "source": [
    "def delete_endpoint(predictor):\n",
    "    try:\n",
    "        boto3.client(\"sagemaker\").delete_endpoint(EndpointName=predictor.endpoint)\n",
    "        print(\"Deleted {}\".format(predictor.endpoint))\n",
    "    except:\n",
    "        print(\"Already deleted: {}\".format(predictor.endpoint))"
   ]
  },
  {
   "cell_type": "markdown",
   "metadata": {},
   "source": [
    "Let's begin by training a binary classifier model with the linear learner default settings. Note that we're setting the number of epochs to 10. Also, notice that the the function above has an EARLY STOPPING CRITERIA set to when Recall reaches 0.7. See more on Early Stopping Criteria in https://github.com/aws/amazon-sagemaker-examples/blob/master/scientific_details_of_algorithms/linear_learner_class_weights_loss_functions/linear_learner_class_weights_loss_functions.ipynb\n",
    "\n",
    "With early stopping, we don't have to worry about setting the number of epochs too high. Linear learner will stop training automatically after the model has converged.\n",
    "\n",
    "## Step 2: Initiate hyperpramatereization using the pipeline below.\n",
    "### For each Breakout group members should consider using either one of the celles below (labelled OPTION 1, OPTION 2) and then sharing results to see which are the best. Running both can take a LONG time. So for timely completion please selection either OPTION 1 or 2."
   ]
  },
  {
   "cell_type": "code",
   "execution_count": null,
   "metadata": {},
   "outputs": [
    {
     "name": "stderr",
     "output_type": "stream",
     "text": [
      "The method get_image_uri has been renamed in sagemaker>=2.\n",
      "See: https://sagemaker.readthedocs.io/en/stable/v2.html for details.\n",
      "Defaulting to the only supported framework/algorithm version: 1. Ignoring framework/algorithm version: 1.\n",
      "train_instance_count has been renamed in sagemaker>=2.\n",
      "See: https://sagemaker.readthedocs.io/en/stable/v2.html for details.\n",
      "train_instance_type has been renamed in sagemaker>=2.\n",
      "See: https://sagemaker.readthedocs.io/en/stable/v2.html for details.\n"
     ]
    },
    {
     "name": "stdout",
     "output_type": "stream",
     "text": [
      "2021-06-23 19:14:37 Starting - Starting the training job...\n",
      "2021-06-23 19:15:01 Starting - Launching requested ML instancesProfilerReport-1624475677: InProgress\n",
      ".."
     ]
    }
   ],
   "source": [
    "# [OPTION 1]: Training a binary classifier (Logistic Regression) with automated threshold tuning\n",
    "\n",
    "autothresh_hyperparams = {\n",
    "    \"feature_dim\": 12,\n",
    "    \"predictor_type\": \"binary_classifier\",\n",
    "    \"binary_classifier_model_selection_criteria\": \"precision_at_target_recall\",\n",
    "    \"target_recall\": 0.7,\n",
    "    \"epochs\": 10,\n",
    "}\n",
    "autothresh_output_path = \"s3://{}/{}/autothresh/output\".format(bucket_new, prefix)\n",
    "autothresh_predictor = predictor_from_hyperparams(\n",
    "    s3_train_path, autothresh_hyperparams, autothresh_output_path\n",
    ")"
   ]
  },
  {
   "cell_type": "code",
   "execution_count": null,
   "metadata": {},
   "outputs": [],
   "source": [
    "# Evaluation for OPTION 1\n",
    "predictors = {\n",
    "    \"Logistic with auto threshold\": autothresh_predictor,\n",
    "         \n",
    "}\n",
    "metrics = {\n",
    "    key: evaluate(predictor, X_test_1, y_test, key, False)\n",
    "    for key, predictor in predictors.items()\n",
    "}\n",
    "pd.set_option(\"display.float_format\", lambda x: \"%.3f\" % x)\n",
    "display(\n",
    "    pd.DataFrame(list(metrics.values())).loc[:, [\"Model\", \"Recall\", \"Precision\", \"Accuracy\", \"F1\"]]\n",
    ")"
   ]
  },
  {
   "cell_type": "markdown",
   "metadata": {},
   "source": [
    "## Option 2 starts below"
   ]
  },
  {
   "cell_type": "code",
   "execution_count": null,
   "metadata": {},
   "outputs": [],
   "source": [
    "# [OPTION 2]: Training a binary classifier with hinge loss, balanced class weights, and automated threshold tuning\n",
    "svm_balanced_hyperparams = {\n",
    "    \"feature_dim\": 12,\n",
    "    \"predictor_type\": \"binary_classifier\",\n",
    "    \"loss\": \"hinge_loss\",\n",
    "    \"binary_classifier_model_selection_criteria\": \"precision_at_target_recall\",\n",
    "    \"target_recall\": 0.7,\n",
    "    \"positive_example_weight_mult\": \"balanced\",\n",
    "    \"epochs\": 10,\n",
    "}\n",
    "svm_balanced_output_path = \"s3://{}/{}/svm_balanced/output\".format(bucket, prefix)\n",
    "svm_balanced_predictor = predictor_from_hyperparams(\n",
    "    s3_train_path, svm_balanced_hyperparams, svm_balanced_output_path\n",
    ")"
   ]
  },
  {
   "cell_type": "code",
   "execution_count": null,
   "metadata": {},
   "outputs": [],
   "source": [
    "# Evaluation for OPTION 2\n",
    "predictors = {\n",
    "    \"Hinge with class weights\": svm_balanced_predictor,\n",
    "    \n",
    "}\n",
    "metrics = {\n",
    "    key: evaluate(predictor, X_test_1, y_test, key, False)\n",
    "    for key, predictor in predictors.items()\n",
    "}\n",
    "pd.set_option(\"display.float_format\", lambda x: \"%.3f\" % x)\n",
    "display(\n",
    "    pd.DataFrame(list(metrics.values())).loc[:, [\"Model\", \"Recall\", \"Precision\", \"Accuracy\", \"F1\"]]\n",
    ")"
   ]
  },
  {
   "cell_type": "markdown",
   "metadata": {},
   "source": [
    "# Task 3: Data Clustering\n",
    "The Data Engineering team further tells you that 5 types of user clusters exist. Can you categorize each user to a separate cluster?\n",
    "Use kmeans here..."
   ]
  },
  {
   "cell_type": "code",
   "execution_count": 23,
   "metadata": {},
   "outputs": [
    {
     "data": {
      "text/plain": [
       "(5, 12)"
      ]
     },
     "execution_count": 23,
     "metadata": {},
     "output_type": "execute_result"
    }
   ],
   "source": [
    "# Next cluster using k-means on the 3 dimensional data\n",
    "from sklearn.cluster import KMeans\n",
    "kmeans = KMeans(n_clusters=5, random_state=0).fit(X_train_1)\n",
    "kmeans.cluster_centers_.shape"
   ]
  },
  {
   "cell_type": "code",
   "execution_count": 24,
   "metadata": {},
   "outputs": [],
   "source": [
    "y_train_CID=kmeans.predict(X_train_1)\n",
    "y_test_CID=kmeans.predict(X_test_1)\n",
    "y_test_CID=np.array(y_test_CID)\n"
   ]
  },
  {
   "cell_type": "code",
   "execution_count": 25,
   "metadata": {},
   "outputs": [],
   "source": [
    "classes=['0','1','2','3','4']"
   ]
  },
  {
   "cell_type": "code",
   "execution_count": 20,
   "metadata": {},
   "outputs": [
    {
     "data": {
      "text/plain": [
       "<matplotlib.legend.Legend at 0x7f1541afba60>"
      ]
     },
     "execution_count": 20,
     "metadata": {},
     "output_type": "execute_result"
    },
    {
     "data": {
      "image/png": "[encoded data removed]",
      "text/plain": [
       "<Figure size 432x288 with 1 Axes>"
      ]
     },
     "metadata": {
      "needs_background": "light"
     },
     "output_type": "display_data"
    }
   ],
   "source": [
    "#scatter plot with original data\n",
    "scatter=plt.scatter(X_test_1[:,0], X_test_1[:,1], c=y_test_CID, cmap='viridis')\n",
    "plt.legend(handles=scatter.legend_elements()[0], labels=classes)"
   ]
  },
  {
   "cell_type": "markdown",
   "metadata": {},
   "source": [
    "## Next, lets find the composition of each cluster.\n",
    "```\n",
    "Rep=#samples in a class/total number of samples.\n",
    "PuR=#purchases/number of entries per class.\n",
    "```"
   ]
  },
  {
   "cell_type": "code",
   "execution_count": 53,
   "metadata": {},
   "outputs": [
    {
     "name": "stdout",
     "output_type": "stream",
     "text": [
      "For cluster 0 Rep= 78.32 PuR= 12.11\n",
      "For cluster 1 Rep= 14.33 PuR= 12.95\n",
      "For cluster 2 Rep= 2.66 PuR= 23.49\n",
      "For cluster 3 Rep= 3.81 PuR= 2.3\n",
      "For cluster 4 Rep= 0.88 PuR= 1.24\n"
     ]
    }
   ],
   "source": [
    "for item in range(5):\n",
    "    locs=np.where(y_train_CID==item)\n",
    "    y_train_sub=np.take(y_train,locs[0])\n",
    "    Rep=round((len(locs[0])/len(y_train))*100,2)\n",
    "    PuR=round((np.sum(y_train_sub)/len(locs[0]))*100,2)\n",
    "    print('For cluster', item, 'Rep=',Rep,'PuR=',PuR)"
   ]
  },
  {
   "cell_type": "markdown",
   "metadata": {},
   "source": [
    "## Our findings are as follows:\n",
    "1. Cluster label 0 represents the majority customers with similar purchase ratio as complete data set. This cluster is biasing major class. \n",
    "2. Cluster label 2 has double purchase ratio than complete data set but very small representation. \n",
    "3. Cluster 3 and 4 represent rarely purchasing/non-purchasing customers"
   ]
  },
  {
   "cell_type": "markdown",
   "metadata": {},
   "source": [
    "# Task 4: Classification per cluster\n",
    "## Resuing the code from Task 2, Report the best classification performances for the cluster variants\n",
    "So find the best classification performances for Cluster label 2 (highest purchase ratio) and label 3 (low purchase ratio)"
   ]
  },
  {
   "cell_type": "markdown",
   "metadata": {},
   "source": [
    "## Step 1: Subsample X_train,y_train, X_test, y_test per cluster followed by classification on the data"
   ]
  },
  {
   "cell_type": "code",
   "execution_count": null,
   "metadata": {},
   "outputs": [],
   "source": []
  },
  {
   "cell_type": "code",
   "execution_count": null,
   "metadata": {},
   "outputs": [],
   "source": [
    "#Finally, clean up\n",
    "for predictor in [\n",
    "    defaults_predictor,\n",
    "    autothresh_predictor,\n",
    "    class_weights_predictor,\n",
    "    svm_predictor,\n",
    "    svm_balanced_predictor,\n",
    "]:\n",
    "    delete_endpoint(predictor)"
   ]
  },
  {
   "cell_type": "code",
   "execution_count": null,
   "metadata": {},
   "outputs": [],
   "source": []
  }
 ],
 "metadata": {
  "kernelspec": {
   "display_name": "Python 3",
   "language": "python",
   "name": "python3"
  },
  "language_info": {
   "codemirror_mode": {
    "name": "ipython",
    "version": 3
   },
   "file_extension": ".py",
   "mimetype": "text/x-python",
   "name": "python",
   "nbconvert_exporter": "python",
   "pygments_lexer": "ipython3",
   "version": "3.8.5"
  }
 },
 "nbformat": 4,
 "nbformat_minor": 4
}
